{
 "cells": [
  {
   "cell_type": "markdown",
   "id": "ce205771-f639-4724-aa8a-56b64e7e0c4d",
   "metadata": {},
   "source": [
    "# Data Series \n",
    "## Creating Data Series manually"
   ]
  },
  {
   "cell_type": "markdown",
   "id": "e88ba404-72a4-4611-b5f7-ef67afa179ea",
   "metadata": {},
   "source": [
    "Importing required modules."
   ]
  },
  {
   "cell_type": "code",
   "execution_count": 7,
   "id": "dab92ac7-3424-415c-94ba-c5abbf13a955",
   "metadata": {},
   "outputs": [],
   "source": [
    "import pandas as pd\n",
    "import numpy as np\n",
    "import matplotlib.pyplot as plt\n",
    "import math as math"
   ]
  },
  {
   "cell_type": "markdown",
   "id": "a2d78cba-5284-46ed-a74c-015414c8e7cb",
   "metadata": {},
   "source": [
    "Creating a list which contains a names od week days."
   ]
  },
  {
   "cell_type": "code",
   "execution_count": 9,
   "id": "882194e1-779f-48d2-8f4e-2ef0e143eb0c",
   "metadata": {},
   "outputs": [],
   "source": [
    "weekdays = [\"Monday\", \"Tuesday\", \"Wednesday\", \"Thursday\", \"Friday\", \"Saturday\", \"Sunday\"]"
   ]
  },
  {
   "cell_type": "markdown",
   "id": "1bebaec5-71a4-4bb1-b99b-fbaa4d34c6e7",
   "metadata": {},
   "source": [
    "Creating a Data Series object named __weekdaySeries__ based on a __weekdays__ list"
   ]
  },
  {
   "cell_type": "code",
   "execution_count": 16,
   "id": "88cfaac3-644c-4f02-8d3b-e9b4f60ceadf",
   "metadata": {},
   "outputs": [
    {
     "data": {
      "text/plain": [
       "0       Monday\n",
       "1      Tuesday\n",
       "2    Wednesday\n",
       "3     Thursday\n",
       "4       Friday\n",
       "5     Saturday\n",
       "6       Sunday\n",
       "dtype: object"
      ]
     },
     "execution_count": 16,
     "metadata": {},
     "output_type": "execute_result"
    }
   ],
   "source": [
    "weekdaysSeries = pd.Series(weekdays)\n",
    "weekdaysSeries"
   ]
  },
  {
   "cell_type": "markdown",
   "id": "51a3f847-f83e-4096-9aea-73547ea66140",
   "metadata": {},
   "source": [
    "If we create a data series object with text elements, the dtype of that data series will be named __object__."
   ]
  },
  {
   "cell_type": "code",
   "execution_count": 19,
   "id": "ab2e6f16-bd0d-4d7c-9474-9b367b1bc800",
   "metadata": {},
   "outputs": [],
   "source": [
    "freeDays = [False, False, False, False, False, True, True]"
   ]
  },
  {
   "cell_type": "code",
   "execution_count": 21,
   "id": "9b0a7322-171e-4107-a71e-5d78d9f939c3",
   "metadata": {},
   "outputs": [
    {
     "data": {
      "text/plain": [
       "0    False\n",
       "1    False\n",
       "2    False\n",
       "3    False\n",
       "4    False\n",
       "5     True\n",
       "6     True\n",
       "dtype: bool"
      ]
     },
     "execution_count": 21,
     "metadata": {},
     "output_type": "execute_result"
    }
   ],
   "source": [
    "freeDaysSeries = pd.Series(freeDays)\n",
    "freeDaysSeries"
   ]
  },
  {
   "cell_type": "markdown",
   "id": "d2f0231c-7a0f-46e8-bd5e-7613232d07f1",
   "metadata": {},
   "source": [
    "To create  a series with choses names instead of indexes we have to use dictionaries."
   ]
  },
  {
   "cell_type": "code",
   "execution_count": 28,
   "id": "59844f5b-b408-4d00-bf2f-18b22d0656d3",
   "metadata": {},
   "outputs": [],
   "source": [
    "holidays = {\"New Year\" : \"2018-01-01\", \"Epiphany\" : \"2018-01-06\", \"Easter\" : \"2018-04-01\"}"
   ]
  },
  {
   "cell_type": "code",
   "execution_count": 32,
   "id": "41060384-98b6-4284-8ab5-b119385cd128",
   "metadata": {},
   "outputs": [],
   "source": [
    "holidaysSeries = pd.Series(holidays)"
   ]
  },
  {
   "cell_type": "code",
   "execution_count": 34,
   "id": "cb2a5282-d2bb-4363-b392-6b613b51989f",
   "metadata": {},
   "outputs": [
    {
     "data": {
      "text/plain": [
       "New Year    2018-01-01\n",
       "Epiphany    2018-01-06\n",
       "Easter      2018-04-01\n",
       "dtype: object"
      ]
     },
     "execution_count": 34,
     "metadata": {},
     "output_type": "execute_result"
    }
   ],
   "source": [
    "holidaysSeries"
   ]
  },
  {
   "cell_type": "code",
   "execution_count": null,
   "id": "7a15cb8a-6843-4074-b3bf-97bc7fb22cc2",
   "metadata": {},
   "outputs": [],
   "source": []
  }
 ],
 "metadata": {
  "kernelspec": {
   "display_name": "Python 3 (ipykernel)",
   "language": "python",
   "name": "python3"
  },
  "language_info": {
   "codemirror_mode": {
    "name": "ipython",
    "version": 3
   },
   "file_extension": ".py",
   "mimetype": "text/x-python",
   "name": "python",
   "nbconvert_exporter": "python",
   "pygments_lexer": "ipython3",
   "version": "3.12.7"
  }
 },
 "nbformat": 4,
 "nbformat_minor": 5
}
