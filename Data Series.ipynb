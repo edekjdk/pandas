{
 "cells": [
  {
   "cell_type": "markdown",
   "id": "ce205771-f639-4724-aa8a-56b64e7e0c4d",
   "metadata": {},
   "source": [
    "# Data Series \n",
    "## Creating Data Series manually"
   ]
  },
  {
   "cell_type": "markdown",
   "id": "e88ba404-72a4-4611-b5f7-ef67afa179ea",
   "metadata": {},
   "source": [
    "Importing required modules."
   ]
  },
  {
   "cell_type": "code",
   "execution_count": 3,
   "id": "dab92ac7-3424-415c-94ba-c5abbf13a955",
   "metadata": {},
   "outputs": [],
   "source": [
    "import pandas as pd\n",
    "import numpy as np\n",
    "import matplotlib.pyplot as plt\n",
    "import math as math\n",
    "import random as rnd"
   ]
  },
  {
   "cell_type": "markdown",
   "id": "a2d78cba-5284-46ed-a74c-015414c8e7cb",
   "metadata": {},
   "source": [
    "Creating a list which contains a names od week days."
   ]
  },
  {
   "cell_type": "code",
   "execution_count": 9,
   "id": "882194e1-779f-48d2-8f4e-2ef0e143eb0c",
   "metadata": {},
   "outputs": [],
   "source": [
    "weekdays = [\"Monday\", \"Tuesday\", \"Wednesday\", \"Thursday\", \"Friday\", \"Saturday\", \"Sunday\"]"
   ]
  },
  {
   "cell_type": "markdown",
   "id": "1bebaec5-71a4-4bb1-b99b-fbaa4d34c6e7",
   "metadata": {},
   "source": [
    "Creating a Data Series object named __weekdaySeries__ based on a __weekdays__ list"
   ]
  },
  {
   "cell_type": "code",
   "execution_count": 16,
   "id": "88cfaac3-644c-4f02-8d3b-e9b4f60ceadf",
   "metadata": {},
   "outputs": [
    {
     "data": {
      "text/plain": [
       "0       Monday\n",
       "1      Tuesday\n",
       "2    Wednesday\n",
       "3     Thursday\n",
       "4       Friday\n",
       "5     Saturday\n",
       "6       Sunday\n",
       "dtype: object"
      ]
     },
     "execution_count": 16,
     "metadata": {},
     "output_type": "execute_result"
    }
   ],
   "source": [
    "weekdaysSeries = pd.Series(weekdays)\n",
    "weekdaysSeries"
   ]
  },
  {
   "cell_type": "markdown",
   "id": "51a3f847-f83e-4096-9aea-73547ea66140",
   "metadata": {},
   "source": [
    "\n",
    "If we create a data series object with text elements, the dtype of that data series will be named __object__."
   ]
  },
  {
   "cell_type": "code",
   "execution_count": 19,
   "id": "ab2e6f16-bd0d-4d7c-9474-9b367b1bc800",
   "metadata": {},
   "outputs": [],
   "source": [
    "freeDays = [False, False, False, False, False, True, True]"
   ]
  },
  {
   "cell_type": "code",
   "execution_count": 21,
   "id": "9b0a7322-171e-4107-a71e-5d78d9f939c3",
   "metadata": {},
   "outputs": [
    {
     "data": {
      "text/plain": [
       "0    False\n",
       "1    False\n",
       "2    False\n",
       "3    False\n",
       "4    False\n",
       "5     True\n",
       "6     True\n",
       "dtype: bool"
      ]
     },
     "execution_count": 21,
     "metadata": {},
     "output_type": "execute_result"
    }
   ],
   "source": [
    "freeDaysSeries = pd.Series(freeDays)\n",
    "freeDaysSeries"
   ]
  },
  {
   "cell_type": "markdown",
   "id": "d2f0231c-7a0f-46e8-bd5e-7613232d07f1",
   "metadata": {},
   "source": [
    "To create  a series with choses names instead of indexes we have to use dictionaries."
   ]
  },
  {
   "cell_type": "code",
   "execution_count": 28,
   "id": "59844f5b-b408-4d00-bf2f-18b22d0656d3",
   "metadata": {},
   "outputs": [],
   "source": [
    "holidays = {\"New Year\" : \"2018-01-01\", \"Epiphany\" : \"2018-01-06\", \"Easter\" : \"2018-04-01\"}"
   ]
  },
  {
   "cell_type": "code",
   "execution_count": 32,
   "id": "41060384-98b6-4284-8ab5-b119385cd128",
   "metadata": {},
   "outputs": [],
   "source": [
    "holidaysSeries = pd.Series(holidays)"
   ]
  },
  {
   "cell_type": "code",
   "execution_count": 34,
   "id": "cb2a5282-d2bb-4363-b392-6b613b51989f",
   "metadata": {},
   "outputs": [
    {
     "data": {
      "text/plain": [
       "New Year    2018-01-01\n",
       "Epiphany    2018-01-06\n",
       "Easter      2018-04-01\n",
       "dtype: object"
      ]
     },
     "execution_count": 34,
     "metadata": {},
     "output_type": "execute_result"
    }
   ],
   "source": [
    "holidaysSeries"
   ]
  },
  {
   "cell_type": "markdown",
   "id": "86e50e6a-2e14-4d2e-ab9b-5a4eff1ddf2f",
   "metadata": {},
   "source": [
    "In this case we declare a empty list, then I filled it with some random values and in the end I created a series object based on this list."
   ]
  },
  {
   "cell_type": "code",
   "execution_count": 7,
   "id": "7a15cb8a-6843-4074-b3bf-97bc7fb22cc2",
   "metadata": {},
   "outputs": [],
   "source": [
    "dataAsFloatList = []\n",
    "for i in range(100000):\n",
    "    dataAsFloatList.append(i*rnd.random())\n",
    "dataAsFloatSeries = pd.Series(dataAsFloatList)"
   ]
  },
  {
   "cell_type": "markdown",
   "id": "590802ca-2ca4-4a1a-b74f-c2e615f2443c",
   "metadata": {},
   "source": [
    "To show a size of our data series we can use __size__ atribute."
   ]
  },
  {
   "cell_type": "code",
   "execution_count": 19,
   "id": "94af0cbf-4e1c-40df-8f4d-5dbbaafe4a9e",
   "metadata": {},
   "outputs": [
    {
     "data": {
      "text/plain": [
       "100000"
      ]
     },
     "execution_count": 19,
     "metadata": {},
     "output_type": "execute_result"
    }
   ],
   "source": [
    "dataAsFloatSeries.size"
   ]
  },
  {
   "cell_type": "markdown",
   "id": "c225943f-7d67-40c0-b8ff-819b73929d31",
   "metadata": {},
   "source": [
    "If we wanna check how many bytes is our data series taking, we should use __nbytes__ atribute."
   ]
  },
  {
   "cell_type": "code",
   "execution_count": 22,
   "id": "faf640a8-1ec7-4eef-82f9-fadfddcc4700",
   "metadata": {},
   "outputs": [
    {
     "data": {
      "text/plain": [
       "800000"
      ]
     },
     "execution_count": 22,
     "metadata": {},
     "output_type": "execute_result"
    }
   ],
   "source": [
    "dataAsFloatSeries.nbytes"
   ]
  },
  {
   "cell_type": "markdown",
   "id": "8a303f56-552e-4211-a9b6-7b259b7b3fdc",
   "metadata": {},
   "source": [
    "To check how many values in any shape we have, just use a __shape__ atribute."
   ]
  },
  {
   "cell_type": "code",
   "execution_count": 24,
   "id": "704b8e09-edf6-4224-ac5a-b02ab3d786c3",
   "metadata": {},
   "outputs": [
    {
     "data": {
      "text/plain": [
       "(100000,)"
      ]
     },
     "execution_count": 24,
     "metadata": {},
     "output_type": "execute_result"
    }
   ],
   "source": [
    "dataAsFloatSeries.shape"
   ]
  },
  {
   "cell_type": "code",
   "execution_count": 30,
   "id": "a523d59c-9064-41b4-a604-f349c18b41b4",
   "metadata": {},
   "outputs": [
    {
     "data": {
      "text/plain": [
       "[RangeIndex(start=0, stop=100000, step=1)]"
      ]
     },
     "execution_count": 30,
     "metadata": {},
     "output_type": "execute_result"
    }
   ],
   "source": [
    "dataAsFloatSeries.axes"
   ]
  },
  {
   "cell_type": "markdown",
   "id": "dc50c261-e390-4040-be90-0188ab11fa4e",
   "metadata": {},
   "source": [
    "To find out what is a data type of our data in data series, we can use __dtype__ atribute."
   ]
  },
  {
   "cell_type": "code",
   "execution_count": 35,
   "id": "504161bc-969a-4234-b044-df35f1272350",
   "metadata": {},
   "outputs": [
    {
     "data": {
      "text/plain": [
       "dtype('float64')"
      ]
     },
     "execution_count": 35,
     "metadata": {},
     "output_type": "execute_result"
    }
   ],
   "source": [
    "dataAsFloatSeries.dtype"
   ]
  },
  {
   "cell_type": "markdown",
   "id": "6f50536f-c3bb-4820-9f36-c0eab207bb00",
   "metadata": {},
   "source": [
    "__Index__ atribute is to see how our indexes were created. "
   ]
  },
  {
   "cell_type": "code",
   "execution_count": 37,
   "id": "16e4faab-536d-44ec-a34b-a07e8863db62",
   "metadata": {},
   "outputs": [
    {
     "data": {
      "text/plain": [
       "RangeIndex(start=0, stop=100000, step=1)"
      ]
     },
     "execution_count": 37,
     "metadata": {},
     "output_type": "execute_result"
    }
   ],
   "source": [
    "dataAsFloatSeries.index"
   ]
  },
  {
   "cell_type": "markdown",
   "id": "1c464638-c575-41fb-8118-f90cc9cf32dd",
   "metadata": {},
   "source": [
    "To check uniqueness of our data, use __is_unique__ atribute."
   ]
  },
  {
   "cell_type": "code",
   "execution_count": 51,
   "id": "5df3991b-93f6-4851-bb86-cc6a54f10df0",
   "metadata": {},
   "outputs": [
    {
     "data": {
      "text/plain": [
       "True"
      ]
     },
     "execution_count": 51,
     "metadata": {},
     "output_type": "execute_result"
    }
   ],
   "source": [
    "dataAsFloatSeries.is_unique"
   ]
  },
  {
   "cell_type": "code",
   "execution_count": 67,
   "id": "21bac23c-ae7f-4481-a1fe-62168927fd74",
   "metadata": {},
   "outputs": [
    {
     "data": {
      "text/plain": [
       "False"
      ]
     },
     "execution_count": 67,
     "metadata": {},
     "output_type": "execute_result"
    }
   ],
   "source": [
    "dataAsFloatSeries.is_monotonic_increasing\n"
   ]
  },
  {
   "cell_type": "code",
   "execution_count": 69,
   "id": "8fbf023a-e861-4499-bfae-329fe2665ab3",
   "metadata": {},
   "outputs": [
    {
     "data": {
      "text/plain": [
       "False"
      ]
     },
     "execution_count": 69,
     "metadata": {},
     "output_type": "execute_result"
    }
   ],
   "source": [
    "dataAsFloatSeries.is_monotonic_decreasing"
   ]
  },
  {
   "cell_type": "code",
   "execution_count": 73,
   "id": "cc189e94-7d8e-45c4-91b2-8a798bdb3407",
   "metadata": {},
   "outputs": [],
   "source": [
    "dataAsStringList = []\n",
    "for i in range(100000):\n",
    "    dataAsStringList.append(str(i*rnd.random()))\n",
    "dataAsStringSeries = pd.Series(dataAsStringList)"
   ]
  },
  {
   "cell_type": "code",
   "execution_count": 79,
   "id": "9e158bff-4af2-401b-893c-c7ba71da6820",
   "metadata": {},
   "outputs": [
    {
     "name": "stdout",
     "output_type": "stream",
     "text": [
      "size:\t 100000\n",
      "nbytes:\t 800000\n",
      "dtype:\t object\n"
     ]
    }
   ],
   "source": [
    "print(\"size:\\t\", dataAsStringSeries.size)\n",
    "print(\"nbytes:\\t\", dataAsStringSeries.nbytes)\n",
    "print(\"dtype:\\t\", dataAsStringSeries.dtype)"
   ]
  },
  {
   "cell_type": "code",
   "execution_count": 81,
   "id": "c0f511fe-5787-480e-9da5-b9aa965ed891",
   "metadata": {},
   "outputs": [
    {
     "ename": "NameError",
     "evalue": "name 'true' is not defined",
     "output_type": "error",
     "traceback": [
      "\u001b[1;31m---------------------------------------------------------------------------\u001b[0m",
      "\u001b[1;31mNameError\u001b[0m                                 Traceback (most recent call last)",
      "Cell \u001b[1;32mIn[81], line 1\u001b[0m\n\u001b[1;32m----> 1\u001b[0m dataAsFloatSeries\u001b[38;5;241m.\u001b[39mmemory_usage(deep\u001b[38;5;241m=\u001b[39mtrue)\n",
      "\u001b[1;31mNameError\u001b[0m: name 'true' is not defined"
     ]
    }
   ],
   "source": [
    "dataAsFloatSeries.memory_usage(deep=true)"
   ]
  },
  {
   "cell_type": "code",
   "execution_count": null,
   "id": "ae50a326-11ad-4c10-b4d6-6396b9670326",
   "metadata": {},
   "outputs": [],
   "source": []
  }
 ],
 "metadata": {
  "kernelspec": {
   "display_name": "Python 3 (ipykernel)",
   "language": "python",
   "name": "python3"
  },
  "language_info": {
   "codemirror_mode": {
    "name": "ipython",
    "version": 3
   },
   "file_extension": ".py",
   "mimetype": "text/x-python",
   "name": "python",
   "nbconvert_exporter": "python",
   "pygments_lexer": "ipython3",
   "version": "3.12.7"
  }
 },
 "nbformat": 4,
 "nbformat_minor": 5
}
