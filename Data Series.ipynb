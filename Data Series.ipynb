{
 "cells": [
  {
   "cell_type": "markdown",
   "id": "ce205771-f639-4724-aa8a-56b64e7e0c4d",
   "metadata": {},
   "source": [
    "# Data Series \n",
    "## Creating Data Series manually"
   ]
  },
  {
   "cell_type": "markdown",
   "id": "e88ba404-72a4-4611-b5f7-ef67afa179ea",
   "metadata": {},
   "source": [
    "Importing required modules."
   ]
  },
  {
   "cell_type": "code",
   "execution_count": 3,
   "id": "dab92ac7-3424-415c-94ba-c5abbf13a955",
   "metadata": {},
   "outputs": [],
   "source": [
    "import pandas as pd\n",
    "import numpy as np\n",
    "import matplotlib.pyplot as plt\n",
    "import math as math\n",
    "import random as rnd"
   ]
  },
  {
   "cell_type": "markdown",
   "id": "a2d78cba-5284-46ed-a74c-015414c8e7cb",
   "metadata": {},
   "source": [
    "Creating a list which contains a names od week days."
   ]
  },
  {
   "cell_type": "code",
   "execution_count": 5,
   "id": "882194e1-779f-48d2-8f4e-2ef0e143eb0c",
   "metadata": {},
   "outputs": [],
   "source": [
    "weekdays = [\"Monday\", \"Tuesday\", \"Wednesday\", \"Thursday\", \"Friday\", \"Saturday\", \"Sunday\"]"
   ]
  },
  {
   "cell_type": "markdown",
   "id": "1bebaec5-71a4-4bb1-b99b-fbaa4d34c6e7",
   "metadata": {},
   "source": [
    "Creating a Data Series object named __weekdaySeries__ based on a __weekdays__ list"
   ]
  },
  {
   "cell_type": "code",
   "execution_count": 7,
   "id": "88cfaac3-644c-4f02-8d3b-e9b4f60ceadf",
   "metadata": {},
   "outputs": [
    {
     "data": {
      "text/plain": [
       "0       Monday\n",
       "1      Tuesday\n",
       "2    Wednesday\n",
       "3     Thursday\n",
       "4       Friday\n",
       "5     Saturday\n",
       "6       Sunday\n",
       "dtype: object"
      ]
     },
     "execution_count": 7,
     "metadata": {},
     "output_type": "execute_result"
    }
   ],
   "source": [
    "weekdaysSeries = pd.Series(weekdays)\n",
    "weekdaysSeries"
   ]
  },
  {
   "cell_type": "markdown",
   "id": "51a3f847-f83e-4096-9aea-73547ea66140",
   "metadata": {},
   "source": [
    "\n",
    "If we create a data series object with text elements, the dtype of that data series will be named __object__."
   ]
  },
  {
   "cell_type": "code",
   "execution_count": 9,
   "id": "ab2e6f16-bd0d-4d7c-9474-9b367b1bc800",
   "metadata": {},
   "outputs": [],
   "source": [
    "freeDays = [False, False, False, False, False, True, True]"
   ]
  },
  {
   "cell_type": "code",
   "execution_count": 10,
   "id": "9b0a7322-171e-4107-a71e-5d78d9f939c3",
   "metadata": {},
   "outputs": [
    {
     "data": {
      "text/plain": [
       "0    False\n",
       "1    False\n",
       "2    False\n",
       "3    False\n",
       "4    False\n",
       "5     True\n",
       "6     True\n",
       "dtype: bool"
      ]
     },
     "execution_count": 10,
     "metadata": {},
     "output_type": "execute_result"
    }
   ],
   "source": [
    "freeDaysSeries = pd.Series(freeDays)\n",
    "freeDaysSeries"
   ]
  },
  {
   "cell_type": "markdown",
   "id": "d2f0231c-7a0f-46e8-bd5e-7613232d07f1",
   "metadata": {},
   "source": [
    "To create  a series with choses names instead of indexes we have to use dictionaries."
   ]
  },
  {
   "cell_type": "code",
   "execution_count": 12,
   "id": "59844f5b-b408-4d00-bf2f-18b22d0656d3",
   "metadata": {},
   "outputs": [],
   "source": [
    "holidays = {\"New Year\" : \"2018-01-01\", \"Epiphany\" : \"2018-01-06\", \"Easter\" : \"2018-04-01\"}"
   ]
  },
  {
   "cell_type": "code",
   "execution_count": 13,
   "id": "41060384-98b6-4284-8ab5-b119385cd128",
   "metadata": {},
   "outputs": [],
   "source": [
    "holidaysSeries = pd.Series(holidays)"
   ]
  },
  {
   "cell_type": "code",
   "execution_count": 14,
   "id": "cb2a5282-d2bb-4363-b392-6b613b51989f",
   "metadata": {},
   "outputs": [
    {
     "data": {
      "text/plain": [
       "New Year    2018-01-01\n",
       "Epiphany    2018-01-06\n",
       "Easter      2018-04-01\n",
       "dtype: object"
      ]
     },
     "execution_count": 14,
     "metadata": {},
     "output_type": "execute_result"
    }
   ],
   "source": [
    "holidaysSeries"
   ]
  },
  {
   "cell_type": "markdown",
   "id": "86e50e6a-2e14-4d2e-ab9b-5a4eff1ddf2f",
   "metadata": {},
   "source": [
    "## Basic atributes\n",
    "In this case we declare a empty list, then I filled it with some random values and in the end I created a series object based on this list."
   ]
  },
  {
   "cell_type": "code",
   "execution_count": 16,
   "id": "7a15cb8a-6843-4074-b3bf-97bc7fb22cc2",
   "metadata": {},
   "outputs": [],
   "source": [
    "dataAsFloatList = []\n",
    "for i in range(100000):\n",
    "    dataAsFloatList.append(i*rnd.random())\n",
    "dataAsFloatSeries = pd.Series(dataAsFloatList)"
   ]
  },
  {
   "cell_type": "markdown",
   "id": "590802ca-2ca4-4a1a-b74f-c2e615f2443c",
   "metadata": {},
   "source": [
    "To show a size of our data series we can use __size__ atribute."
   ]
  },
  {
   "cell_type": "code",
   "execution_count": 18,
   "id": "94af0cbf-4e1c-40df-8f4d-5dbbaafe4a9e",
   "metadata": {},
   "outputs": [
    {
     "data": {
      "text/plain": [
       "100000"
      ]
     },
     "execution_count": 18,
     "metadata": {},
     "output_type": "execute_result"
    }
   ],
   "source": [
    "dataAsFloatSeries.size"
   ]
  },
  {
   "cell_type": "markdown",
   "id": "c225943f-7d67-40c0-b8ff-819b73929d31",
   "metadata": {},
   "source": [
    "If we wanna check how many bytes is our data series taking, we should use __nbytes__ atribute."
   ]
  },
  {
   "cell_type": "code",
   "execution_count": 20,
   "id": "faf640a8-1ec7-4eef-82f9-fadfddcc4700",
   "metadata": {},
   "outputs": [
    {
     "data": {
      "text/plain": [
       "800000"
      ]
     },
     "execution_count": 20,
     "metadata": {},
     "output_type": "execute_result"
    }
   ],
   "source": [
    "dataAsFloatSeries.nbytes"
   ]
  },
  {
   "cell_type": "markdown",
   "id": "8a303f56-552e-4211-a9b6-7b259b7b3fdc",
   "metadata": {},
   "source": [
    "To check how many values in any shape we have, just use a __shape__ atribute."
   ]
  },
  {
   "cell_type": "code",
   "execution_count": 22,
   "id": "704b8e09-edf6-4224-ac5a-b02ab3d786c3",
   "metadata": {},
   "outputs": [
    {
     "data": {
      "text/plain": [
       "(100000,)"
      ]
     },
     "execution_count": 22,
     "metadata": {},
     "output_type": "execute_result"
    }
   ],
   "source": [
    "dataAsFloatSeries.shape"
   ]
  },
  {
   "cell_type": "code",
   "execution_count": 23,
   "id": "a523d59c-9064-41b4-a604-f349c18b41b4",
   "metadata": {},
   "outputs": [
    {
     "data": {
      "text/plain": [
       "[RangeIndex(start=0, stop=100000, step=1)]"
      ]
     },
     "execution_count": 23,
     "metadata": {},
     "output_type": "execute_result"
    }
   ],
   "source": [
    "dataAsFloatSeries.axes"
   ]
  },
  {
   "cell_type": "markdown",
   "id": "dc50c261-e390-4040-be90-0188ab11fa4e",
   "metadata": {},
   "source": [
    "To find out what is a data type of our data in data series, we can use __dtype__ atribute."
   ]
  },
  {
   "cell_type": "code",
   "execution_count": 25,
   "id": "504161bc-969a-4234-b044-df35f1272350",
   "metadata": {},
   "outputs": [
    {
     "data": {
      "text/plain": [
       "dtype('float64')"
      ]
     },
     "execution_count": 25,
     "metadata": {},
     "output_type": "execute_result"
    }
   ],
   "source": [
    "dataAsFloatSeries.dtype"
   ]
  },
  {
   "cell_type": "markdown",
   "id": "6f50536f-c3bb-4820-9f36-c0eab207bb00",
   "metadata": {},
   "source": [
    "__Index__ atribute is to see how our indexes were created. "
   ]
  },
  {
   "cell_type": "code",
   "execution_count": 27,
   "id": "16e4faab-536d-44ec-a34b-a07e8863db62",
   "metadata": {},
   "outputs": [
    {
     "data": {
      "text/plain": [
       "RangeIndex(start=0, stop=100000, step=1)"
      ]
     },
     "execution_count": 27,
     "metadata": {},
     "output_type": "execute_result"
    }
   ],
   "source": [
    "dataAsFloatSeries.index"
   ]
  },
  {
   "cell_type": "markdown",
   "id": "1c464638-c575-41fb-8118-f90cc9cf32dd",
   "metadata": {},
   "source": [
    "To check uniqueness of our data, use __is_unique__ atribute."
   ]
  },
  {
   "cell_type": "code",
   "execution_count": 29,
   "id": "5df3991b-93f6-4851-bb86-cc6a54f10df0",
   "metadata": {},
   "outputs": [
    {
     "data": {
      "text/plain": [
       "True"
      ]
     },
     "execution_count": 29,
     "metadata": {},
     "output_type": "execute_result"
    }
   ],
   "source": [
    "dataAsFloatSeries.is_unique"
   ]
  },
  {
   "cell_type": "code",
   "execution_count": 30,
   "id": "21bac23c-ae7f-4481-a1fe-62168927fd74",
   "metadata": {},
   "outputs": [
    {
     "data": {
      "text/plain": [
       "False"
      ]
     },
     "execution_count": 30,
     "metadata": {},
     "output_type": "execute_result"
    }
   ],
   "source": [
    "dataAsFloatSeries.is_monotonic_increasing\n"
   ]
  },
  {
   "cell_type": "code",
   "execution_count": 31,
   "id": "8fbf023a-e861-4499-bfae-329fe2665ab3",
   "metadata": {},
   "outputs": [
    {
     "data": {
      "text/plain": [
       "False"
      ]
     },
     "execution_count": 31,
     "metadata": {},
     "output_type": "execute_result"
    }
   ],
   "source": [
    "dataAsFloatSeries.is_monotonic_decreasing"
   ]
  },
  {
   "cell_type": "code",
   "execution_count": 32,
   "id": "cc189e94-7d8e-45c4-91b2-8a798bdb3407",
   "metadata": {},
   "outputs": [],
   "source": [
    "dataAsStringList = []\n",
    "for i in range(100000):\n",
    "    dataAsStringList.append(str(i*rnd.random()))\n",
    "dataAsStringSeries = pd.Series(dataAsStringList)"
   ]
  },
  {
   "cell_type": "code",
   "execution_count": 33,
   "id": "9e158bff-4af2-401b-893c-c7ba71da6820",
   "metadata": {},
   "outputs": [
    {
     "name": "stdout",
     "output_type": "stream",
     "text": [
      "size:\t 100000\n",
      "nbytes:\t 800000\n",
      "dtype:\t object\n"
     ]
    }
   ],
   "source": [
    "print(\"size:\\t\", dataAsStringSeries.size)\n",
    "print(\"nbytes:\\t\", dataAsStringSeries.nbytes)\n",
    "print(\"dtype:\\t\", dataAsStringSeries.dtype)"
   ]
  },
  {
   "cell_type": "code",
   "execution_count": 34,
   "id": "c0f511fe-5787-480e-9da5-b9aa965ed891",
   "metadata": {},
   "outputs": [
    {
     "data": {
      "text/plain": [
       "800132"
      ]
     },
     "execution_count": 34,
     "metadata": {},
     "output_type": "execute_result"
    }
   ],
   "source": [
    "dataAsFloatSeries.memory_usage(deep=True)"
   ]
  },
  {
   "cell_type": "code",
   "execution_count": 35,
   "id": "ae50a326-11ad-4c10-b4d6-6396b9670326",
   "metadata": {},
   "outputs": [
    {
     "data": {
      "text/plain": [
       "6634319"
      ]
     },
     "execution_count": 35,
     "metadata": {},
     "output_type": "execute_result"
    }
   ],
   "source": [
    "dataAsStringSeries.memory_usage(deep=True)"
   ]
  },
  {
   "cell_type": "markdown",
   "id": "a429ce96-b5ea-4ed4-809e-fc48536f046a",
   "metadata": {},
   "source": [
    "## Basic methods"
   ]
  },
  {
   "cell_type": "code",
   "execution_count": 37,
   "id": "862f2ee5-b1ac-4743-ad02-0757aaf7c808",
   "metadata": {},
   "outputs": [],
   "source": [
    "cities = [\"Shanghai\",\"Beijing\",\"Istanbul\"]\n",
    "population = [24183300, 20794100, 15030000]\n",
    "citypop = pd.Series(data = population, index = cities)"
   ]
  },
  {
   "cell_type": "code",
   "execution_count": 38,
   "id": "f815169f-6018-4d7e-b1fc-138ecb2cce52",
   "metadata": {},
   "outputs": [
    {
     "data": {
      "text/plain": [
       "Shanghai    24183300\n",
       "Beijing     20794100\n",
       "Istanbul    15030000\n",
       "dtype: int64"
      ]
     },
     "execution_count": 38,
     "metadata": {},
     "output_type": "execute_result"
    }
   ],
   "source": [
    "citypop"
   ]
  },
  {
   "cell_type": "code",
   "execution_count": 39,
   "id": "9d741934-bde6-4c2b-8aed-3fa2590df6ea",
   "metadata": {},
   "outputs": [
    {
     "name": "stdout",
     "output_type": "stream",
     "text": [
      "sum of the all cities:  60007400\n"
     ]
    }
   ],
   "source": [
    "print(\"sum of the all cities: \", citypop.sum())"
   ]
  },
  {
   "cell_type": "code",
   "execution_count": 40,
   "id": "e52b6ad8-e5ab-41c5-9de3-7e6ea10de02a",
   "metadata": {},
   "outputs": [
    {
     "name": "stdout",
     "output_type": "stream",
     "text": [
      "mean of each city:  20002466.666666668\n"
     ]
    }
   ],
   "source": [
    "print(\"mean of each city: \", citypop.mean())"
   ]
  },
  {
   "cell_type": "code",
   "execution_count": 41,
   "id": "c38da064-9631-4244-b0f8-225d059f80e1",
   "metadata": {},
   "outputs": [
    {
     "data": {
      "text/plain": [
       "Index(['Shanghai', 'Beijing', 'Istanbul'], dtype='object')"
      ]
     },
     "execution_count": 41,
     "metadata": {},
     "output_type": "execute_result"
    }
   ],
   "source": [
    "citypop.index"
   ]
  },
  {
   "cell_type": "code",
   "execution_count": 42,
   "id": "b94ac90d-b8cb-42e4-a1fc-4b6bd612ad2b",
   "metadata": {},
   "outputs": [
    {
     "data": {
      "text/plain": [
       "Index(['Shanghai', 'Beijing', 'Istanbul'], dtype='object')"
      ]
     },
     "execution_count": 42,
     "metadata": {},
     "output_type": "execute_result"
    }
   ],
   "source": [
    "citypop.keys()"
   ]
  },
  {
   "cell_type": "code",
   "execution_count": 43,
   "id": "0d9ce0a1-fe17-4f31-95e3-9fce449409b6",
   "metadata": {},
   "outputs": [
    {
     "data": {
      "text/plain": [
       "array([24183300, 20794100, 15030000], dtype=int64)"
      ]
     },
     "execution_count": 43,
     "metadata": {},
     "output_type": "execute_result"
    }
   ],
   "source": [
    "citypop.values"
   ]
  },
  {
   "cell_type": "markdown",
   "id": "c982afef-3395-4b2d-9a39-389e9ea13bef",
   "metadata": {},
   "source": [
    "## Exercise to course"
   ]
  },
  {
   "cell_type": "code",
   "execution_count": 45,
   "id": "71c93bd2-eda1-44d3-b731-8064fcac0bc2",
   "metadata": {},
   "outputs": [],
   "source": [
    "ages = [\"<=6\", \"7-14\", \"15-17\", \"18-24\", \"25-39\", \"40-59\", \">=60\"]\n",
    "count = [14, 334, 312, 5823, 9491, 7486, 4343]\n",
    "\n",
    "incidents = pd.Series(data=count, index= ages)"
   ]
  },
  {
   "cell_type": "code",
   "execution_count": 46,
   "id": "8acec76b-e47d-46af-9a9e-88eb4525bf5e",
   "metadata": {},
   "outputs": [
    {
     "data": {
      "text/plain": [
       "<=6        14\n",
       "7-14      334\n",
       "15-17     312\n",
       "18-24    5823\n",
       "25-39    9491\n",
       "40-59    7486\n",
       ">=60     4343\n",
       "dtype: int64"
      ]
     },
     "execution_count": 46,
     "metadata": {},
     "output_type": "execute_result"
    }
   ],
   "source": [
    "incidents"
   ]
  },
  {
   "cell_type": "code",
   "execution_count": 47,
   "id": "b7daee74-af59-4647-a18d-c8b29b05220b",
   "metadata": {},
   "outputs": [
    {
     "data": {
      "text/plain": [
       "18-24    5823.0\n",
       "25-39    9491.0\n",
       "40-59    7486.0\n",
       ">=60     4343.0\n",
       "dtype: float64"
      ]
     },
     "execution_count": 47,
     "metadata": {},
     "output_type": "execute_result"
    }
   ],
   "source": [
    "incidents.where(incidents>1000).dropna()"
   ]
  },
  {
   "cell_type": "code",
   "execution_count": 48,
   "id": "bc5231e5-3ae9-4399-bd38-74ce14a0830e",
   "metadata": {},
   "outputs": [],
   "source": [
    "incident1000 = incidents.where(incidents > 1000).dropna()"
   ]
  },
  {
   "cell_type": "code",
   "execution_count": 49,
   "id": "742f4f9f-34e0-41ae-b9e0-fa28b8316b99",
   "metadata": {},
   "outputs": [
    {
     "data": {
      "text/plain": [
       "18-24    5823.0\n",
       "25-39    9491.0\n",
       "40-59    7486.0\n",
       ">=60     4343.0\n",
       "dtype: float64"
      ]
     },
     "execution_count": 49,
     "metadata": {},
     "output_type": "execute_result"
    }
   ],
   "source": [
    "incident1000"
   ]
  },
  {
   "cell_type": "code",
   "execution_count": 50,
   "id": "92654c20-b00d-4a17-9dfc-09ea7a811aae",
   "metadata": {},
   "outputs": [
    {
     "data": {
      "text/plain": [
       "<=6        14\n",
       "7-14      334\n",
       "15-17     312\n",
       "18-24    5823\n",
       "25-39    9491\n",
       "40-59    7486\n",
       ">=60     4343\n",
       "dtype: int64"
      ]
     },
     "execution_count": 50,
     "metadata": {},
     "output_type": "execute_result"
    }
   ],
   "source": [
    "incidents"
   ]
  },
  {
   "cell_type": "code",
   "execution_count": 51,
   "id": "e002bdc8-87bf-4d24-9d19-2ede08bb9fd6",
   "metadata": {},
   "outputs": [
    {
     "data": {
      "text/plain": [
       "18-24    5823\n",
       "25-39    9491\n",
       "40-59    7486\n",
       "dtype: int64"
      ]
     },
     "execution_count": 51,
     "metadata": {},
     "output_type": "execute_result"
    }
   ],
   "source": [
    "incidents.filter(items=[\"18-24\", \"25-39\", \"40-59\"])"
   ]
  },
  {
   "cell_type": "code",
   "execution_count": 52,
   "id": "014cd4b0-6d9c-48a7-90d8-af064b7a6d21",
   "metadata": {},
   "outputs": [
    {
     "data": {
      "text/plain": [
       "<=6        14\n",
       "7-14      334\n",
       "15-17     312\n",
       "18-24    5823\n",
       "25-39    9491\n",
       "40-59    7486\n",
       ">=60     4343\n",
       "dtype: int64"
      ]
     },
     "execution_count": 52,
     "metadata": {},
     "output_type": "execute_result"
    }
   ],
   "source": [
    "incidents"
   ]
  },
  {
   "cell_type": "code",
   "execution_count": 53,
   "id": "e00c4910-9ec2-440e-9c29-6d4022558143",
   "metadata": {},
   "outputs": [],
   "source": [
    "incidents.where(incidents <= 1000, inplace = True)\n",
    "incidents.dropna(inplace=True)"
   ]
  },
  {
   "cell_type": "code",
   "execution_count": 54,
   "id": "83e788b6-9786-43e7-b0e2-e18ad4df6e71",
   "metadata": {},
   "outputs": [
    {
     "data": {
      "text/plain": [
       "<=6       14.0\n",
       "7-14     334.0\n",
       "15-17    312.0\n",
       "dtype: float64"
      ]
     },
     "execution_count": 54,
     "metadata": {},
     "output_type": "execute_result"
    }
   ],
   "source": [
    "incidents"
   ]
  },
  {
   "cell_type": "markdown",
   "id": "76199f34-df66-46dc-81bb-cb7efa431e53",
   "metadata": {},
   "source": [
    "## lab 7 exercises"
   ]
  },
  {
   "cell_type": "code",
   "execution_count": 56,
   "id": "5d0099fa-3a57-4e3d-aea3-b90efea58b29",
   "metadata": {},
   "outputs": [],
   "source": [
    "namesList = ['Albania','Austria','Belarus',\n",
    "'Belgium','Bulgaria','Croatia','Cyprus','Czech Republic','Denmark','Estonia',\n",
    "'Finland','France','Germany','Greece','Hungary','Iceland','Ireland','Italy',\n",
    "'Latvia','Lithuania','Luxembourg','Macedonia','Malta','Montenegro','Netherlands',\n",
    "'Norway','Poland','Portugal','Romania','Russia','Serbia','Slovenia','Spain', 'Sweden','Switzerland','United Kingdom','Turkey','Ukraine']"
   ]
  },
  {
   "cell_type": "code",
   "execution_count": 57,
   "id": "836643ef-c91b-42aa-86b8-e720ac380d1a",
   "metadata": {},
   "outputs": [],
   "source": [
    "energy2000List = [1947,8347,3564,8369,4560,3814,4623,6348,6328,6506,16483,7736,7264,5318,3876,\n",
    "51440,5911,5494,3230,3471,16830,3521,4171,5420,7010,24891,3797,4959,2551,\n",
    "6410,4359,6521,5707,14934,8175,2498,3550,5701]"
   ]
  },
  {
   "cell_type": "code",
   "execution_count": 58,
   "id": "8f42ade5-69e6-40c9-b986-fbeabba8ccd5",
   "metadata": {},
   "outputs": [],
   "source": [
    "energy2012List = [2118,8507,3698,7987,4762,3819,4057,6305,6039,6689,15687,7344,7270,5511,3919,\n",
    "53203,5665,5398,3588,3608,14696,3626,4761,5416,6871,23658,3899,4736,2604,\n",
    "6617,4387,6778,5573,14290,7886,2794,3641,5452]"
   ]
  },
  {
   "cell_type": "code",
   "execution_count": 109,
   "id": "c3dc2e9e-1efc-4c88-bd7f-3f6b7be1feff",
   "metadata": {},
   "outputs": [],
   "source": [
    "namesSeries = pd.Series(namesList)\n",
    "energy2000Series = pd.Series(energy2000List)\n",
    "energy2012Series = pd.Series(energy2012List)"
   ]
  },
  {
   "cell_type": "code",
   "execution_count": 122,
   "id": "7dc1388c-f2a1-4293-b2df-45119f23c87a",
   "metadata": {},
   "outputs": [],
   "source": [
    "mean2000 = energy2000Series.mean()\n",
    "mean2012 = energy2012Series.mean()\n",
    "filterAboveMean2000 = energy2000Series > mean2000\n",
    "filterAboveMean2012 = energy2012Series > mean2012"
   ]
  },
  {
   "cell_type": "code",
   "execution_count": 130,
   "id": "02880afe-fd58-4291-8467-6f8ca9667c92",
   "metadata": {},
   "outputs": [
    {
     "data": {
      "text/plain": [
       "1         Austria\n",
       "3         Belgium\n",
       "10        Finland\n",
       "15        Iceland\n",
       "20     Luxembourg\n",
       "25         Norway\n",
       "33         Sweden\n",
       "34    Switzerland\n",
       "dtype: object"
      ]
     },
     "execution_count": 130,
     "metadata": {},
     "output_type": "execute_result"
    }
   ],
   "source": [
    "namesSeries.where(filterAboveMean2000 & filterAboveMean2012).dropna()"
   ]
  },
  {
   "cell_type": "code",
   "execution_count": null,
   "id": "da1b0b94-840e-4a4d-a439-f2ae1033d65e",
   "metadata": {},
   "outputs": [],
   "source": []
  }
 ],
 "metadata": {
  "kernelspec": {
   "display_name": "Python 3 (ipykernel)",
   "language": "python",
   "name": "python3"
  },
  "language_info": {
   "codemirror_mode": {
    "name": "ipython",
    "version": 3
   },
   "file_extension": ".py",
   "mimetype": "text/x-python",
   "name": "python",
   "nbconvert_exporter": "python",
   "pygments_lexer": "ipython3",
   "version": "3.12.7"
  }
 },
 "nbformat": 4,
 "nbformat_minor": 5
}
