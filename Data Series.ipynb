{
 "cells": [
  {
   "cell_type": "markdown",
   "id": "ce205771-f639-4724-aa8a-56b64e7e0c4d",
   "metadata": {},
   "source": [
    "# Data Series \n",
    "## Creating Data Series manually"
   ]
  },
  {
   "cell_type": "markdown",
   "id": "e88ba404-72a4-4611-b5f7-ef67afa179ea",
   "metadata": {},
   "source": [
    "Importing required modules."
   ]
  },
  {
   "cell_type": "code",
   "execution_count": 3,
   "id": "dab92ac7-3424-415c-94ba-c5abbf13a955",
   "metadata": {},
   "outputs": [],
   "source": [
    "import pandas as pd\n",
    "import numpy as np\n",
    "import matplotlib.pyplot as plt\n",
    "import math as math\n",
    "import random as rnd"
   ]
  },
  {
   "cell_type": "markdown",
   "id": "a2d78cba-5284-46ed-a74c-015414c8e7cb",
   "metadata": {},
   "source": [
    "Creating a list which contains a names od week days."
   ]
  },
  {
   "cell_type": "code",
   "execution_count": 5,
   "id": "882194e1-779f-48d2-8f4e-2ef0e143eb0c",
   "metadata": {},
   "outputs": [],
   "source": [
    "weekdays = [\"Monday\", \"Tuesday\", \"Wednesday\", \"Thursday\", \"Friday\", \"Saturday\", \"Sunday\"]"
   ]
  },
  {
   "cell_type": "markdown",
   "id": "1bebaec5-71a4-4bb1-b99b-fbaa4d34c6e7",
   "metadata": {},
   "source": [
    "Creating a Data Series object named __weekdaySeries__ based on a __weekdays__ list"
   ]
  },
  {
   "cell_type": "code",
   "execution_count": 7,
   "id": "88cfaac3-644c-4f02-8d3b-e9b4f60ceadf",
   "metadata": {},
   "outputs": [
    {
     "data": {
      "text/plain": [
       "0       Monday\n",
       "1      Tuesday\n",
       "2    Wednesday\n",
       "3     Thursday\n",
       "4       Friday\n",
       "5     Saturday\n",
       "6       Sunday\n",
       "dtype: object"
      ]
     },
     "execution_count": 7,
     "metadata": {},
     "output_type": "execute_result"
    }
   ],
   "source": [
    "weekdaysSeries = pd.Series(weekdays)\n",
    "weekdaysSeries"
   ]
  },
  {
   "cell_type": "markdown",
   "id": "51a3f847-f83e-4096-9aea-73547ea66140",
   "metadata": {},
   "source": [
    "\n",
    "If we create a data series object with text elements, the dtype of that data series will be named __object__."
   ]
  },
  {
   "cell_type": "code",
   "execution_count": 9,
   "id": "ab2e6f16-bd0d-4d7c-9474-9b367b1bc800",
   "metadata": {},
   "outputs": [],
   "source": [
    "freeDays = [False, False, False, False, False, True, True]"
   ]
  },
  {
   "cell_type": "code",
   "execution_count": 10,
   "id": "9b0a7322-171e-4107-a71e-5d78d9f939c3",
   "metadata": {},
   "outputs": [
    {
     "data": {
      "text/plain": [
       "0    False\n",
       "1    False\n",
       "2    False\n",
       "3    False\n",
       "4    False\n",
       "5     True\n",
       "6     True\n",
       "dtype: bool"
      ]
     },
     "execution_count": 10,
     "metadata": {},
     "output_type": "execute_result"
    }
   ],
   "source": [
    "freeDaysSeries = pd.Series(freeDays)\n",
    "freeDaysSeries"
   ]
  },
  {
   "cell_type": "markdown",
   "id": "d2f0231c-7a0f-46e8-bd5e-7613232d07f1",
   "metadata": {},
   "source": [
    "To create  a series with choses names instead of indexes we have to use dictionaries."
   ]
  },
  {
   "cell_type": "code",
   "execution_count": 12,
   "id": "59844f5b-b408-4d00-bf2f-18b22d0656d3",
   "metadata": {},
   "outputs": [],
   "source": [
    "holidays = {\"New Year\" : \"2018-01-01\", \"Epiphany\" : \"2018-01-06\", \"Easter\" : \"2018-04-01\"}"
   ]
  },
  {
   "cell_type": "code",
   "execution_count": 13,
   "id": "41060384-98b6-4284-8ab5-b119385cd128",
   "metadata": {},
   "outputs": [],
   "source": [
    "holidaysSeries = pd.Series(holidays)"
   ]
  },
  {
   "cell_type": "code",
   "execution_count": 14,
   "id": "cb2a5282-d2bb-4363-b392-6b613b51989f",
   "metadata": {},
   "outputs": [
    {
     "data": {
      "text/plain": [
       "New Year    2018-01-01\n",
       "Epiphany    2018-01-06\n",
       "Easter      2018-04-01\n",
       "dtype: object"
      ]
     },
     "execution_count": 14,
     "metadata": {},
     "output_type": "execute_result"
    }
   ],
   "source": [
    "holidaysSeries"
   ]
  },
  {
   "cell_type": "markdown",
   "id": "86e50e6a-2e14-4d2e-ab9b-5a4eff1ddf2f",
   "metadata": {},
   "source": [
    "## Basic atributes\n",
    "In this case we declare a empty list, then I filled it with some random values and in the end I created a series object based on this list."
   ]
  },
  {
   "cell_type": "code",
   "execution_count": 16,
   "id": "7a15cb8a-6843-4074-b3bf-97bc7fb22cc2",
   "metadata": {},
   "outputs": [],
   "source": [
    "dataAsFloatList = []\n",
    "for i in range(100000):\n",
    "    dataAsFloatList.append(i*rnd.random())\n",
    "dataAsFloatSeries = pd.Series(dataAsFloatList)"
   ]
  },
  {
   "cell_type": "markdown",
   "id": "590802ca-2ca4-4a1a-b74f-c2e615f2443c",
   "metadata": {},
   "source": [
    "To show a size of our data series we can use __size__ atribute."
   ]
  },
  {
   "cell_type": "code",
   "execution_count": 18,
   "id": "94af0cbf-4e1c-40df-8f4d-5dbbaafe4a9e",
   "metadata": {},
   "outputs": [
    {
     "data": {
      "text/plain": [
       "100000"
      ]
     },
     "execution_count": 18,
     "metadata": {},
     "output_type": "execute_result"
    }
   ],
   "source": [
    "dataAsFloatSeries.size"
   ]
  },
  {
   "cell_type": "markdown",
   "id": "c225943f-7d67-40c0-b8ff-819b73929d31",
   "metadata": {},
   "source": [
    "If we wanna check how many bytes is our data series taking, we should use __nbytes__ atribute."
   ]
  },
  {
   "cell_type": "code",
   "execution_count": 20,
   "id": "faf640a8-1ec7-4eef-82f9-fadfddcc4700",
   "metadata": {},
   "outputs": [
    {
     "data": {
      "text/plain": [
       "800000"
      ]
     },
     "execution_count": 20,
     "metadata": {},
     "output_type": "execute_result"
    }
   ],
   "source": [
    "dataAsFloatSeries.nbytes"
   ]
  },
  {
   "cell_type": "markdown",
   "id": "8a303f56-552e-4211-a9b6-7b259b7b3fdc",
   "metadata": {},
   "source": [
    "To check how many values in any shape we have, just use a __shape__ atribute."
   ]
  },
  {
   "cell_type": "code",
   "execution_count": 22,
   "id": "704b8e09-edf6-4224-ac5a-b02ab3d786c3",
   "metadata": {},
   "outputs": [
    {
     "data": {
      "text/plain": [
       "(100000,)"
      ]
     },
     "execution_count": 22,
     "metadata": {},
     "output_type": "execute_result"
    }
   ],
   "source": [
    "dataAsFloatSeries.shape"
   ]
  },
  {
   "cell_type": "code",
   "execution_count": 23,
   "id": "a523d59c-9064-41b4-a604-f349c18b41b4",
   "metadata": {},
   "outputs": [
    {
     "data": {
      "text/plain": [
       "[RangeIndex(start=0, stop=100000, step=1)]"
      ]
     },
     "execution_count": 23,
     "metadata": {},
     "output_type": "execute_result"
    }
   ],
   "source": [
    "dataAsFloatSeries.axes"
   ]
  },
  {
   "cell_type": "markdown",
   "id": "dc50c261-e390-4040-be90-0188ab11fa4e",
   "metadata": {},
   "source": [
    "To find out what is a data type of our data in data series, we can use __dtype__ atribute."
   ]
  },
  {
   "cell_type": "code",
   "execution_count": 25,
   "id": "504161bc-969a-4234-b044-df35f1272350",
   "metadata": {},
   "outputs": [
    {
     "data": {
      "text/plain": [
       "dtype('float64')"
      ]
     },
     "execution_count": 25,
     "metadata": {},
     "output_type": "execute_result"
    }
   ],
   "source": [
    "dataAsFloatSeries.dtype"
   ]
  },
  {
   "cell_type": "markdown",
   "id": "6f50536f-c3bb-4820-9f36-c0eab207bb00",
   "metadata": {},
   "source": [
    "__Index__ atribute is to see how our indexes were created. "
   ]
  },
  {
   "cell_type": "code",
   "execution_count": 27,
   "id": "16e4faab-536d-44ec-a34b-a07e8863db62",
   "metadata": {},
   "outputs": [
    {
     "data": {
      "text/plain": [
       "RangeIndex(start=0, stop=100000, step=1)"
      ]
     },
     "execution_count": 27,
     "metadata": {},
     "output_type": "execute_result"
    }
   ],
   "source": [
    "dataAsFloatSeries.index"
   ]
  },
  {
   "cell_type": "markdown",
   "id": "1c464638-c575-41fb-8118-f90cc9cf32dd",
   "metadata": {},
   "source": [
    "To check uniqueness of our data, use __is_unique__ atribute."
   ]
  },
  {
   "cell_type": "code",
   "execution_count": 29,
   "id": "5df3991b-93f6-4851-bb86-cc6a54f10df0",
   "metadata": {},
   "outputs": [
    {
     "data": {
      "text/plain": [
       "True"
      ]
     },
     "execution_count": 29,
     "metadata": {},
     "output_type": "execute_result"
    }
   ],
   "source": [
    "dataAsFloatSeries.is_unique"
   ]
  },
  {
   "cell_type": "code",
   "execution_count": 30,
   "id": "21bac23c-ae7f-4481-a1fe-62168927fd74",
   "metadata": {},
   "outputs": [
    {
     "data": {
      "text/plain": [
       "False"
      ]
     },
     "execution_count": 30,
     "metadata": {},
     "output_type": "execute_result"
    }
   ],
   "source": [
    "dataAsFloatSeries.is_monotonic_increasing\n"
   ]
  },
  {
   "cell_type": "code",
   "execution_count": 31,
   "id": "8fbf023a-e861-4499-bfae-329fe2665ab3",
   "metadata": {},
   "outputs": [
    {
     "data": {
      "text/plain": [
       "False"
      ]
     },
     "execution_count": 31,
     "metadata": {},
     "output_type": "execute_result"
    }
   ],
   "source": [
    "dataAsFloatSeries.is_monotonic_decreasing"
   ]
  },
  {
   "cell_type": "code",
   "execution_count": 32,
   "id": "cc189e94-7d8e-45c4-91b2-8a798bdb3407",
   "metadata": {},
   "outputs": [],
   "source": [
    "dataAsStringList = []\n",
    "for i in range(100000):\n",
    "    dataAsStringList.append(str(i*rnd.random()))\n",
    "dataAsStringSeries = pd.Series(dataAsStringList)"
   ]
  },
  {
   "cell_type": "code",
   "execution_count": 33,
   "id": "9e158bff-4af2-401b-893c-c7ba71da6820",
   "metadata": {},
   "outputs": [
    {
     "name": "stdout",
     "output_type": "stream",
     "text": [
      "size:\t 100000\n",
      "nbytes:\t 800000\n",
      "dtype:\t object\n"
     ]
    }
   ],
   "source": [
    "print(\"size:\\t\", dataAsStringSeries.size)\n",
    "print(\"nbytes:\\t\", dataAsStringSeries.nbytes)\n",
    "print(\"dtype:\\t\", dataAsStringSeries.dtype)"
   ]
  },
  {
   "cell_type": "code",
   "execution_count": 34,
   "id": "c0f511fe-5787-480e-9da5-b9aa965ed891",
   "metadata": {},
   "outputs": [
    {
     "data": {
      "text/plain": [
       "800132"
      ]
     },
     "execution_count": 34,
     "metadata": {},
     "output_type": "execute_result"
    }
   ],
   "source": [
    "dataAsFloatSeries.memory_usage(deep=True)"
   ]
  },
  {
   "cell_type": "code",
   "execution_count": 35,
   "id": "ae50a326-11ad-4c10-b4d6-6396b9670326",
   "metadata": {},
   "outputs": [
    {
     "data": {
      "text/plain": [
       "6634631"
      ]
     },
     "execution_count": 35,
     "metadata": {},
     "output_type": "execute_result"
    }
   ],
   "source": [
    "dataAsStringSeries.memory_usage(deep=True)"
   ]
  },
  {
   "cell_type": "markdown",
   "id": "a429ce96-b5ea-4ed4-809e-fc48536f046a",
   "metadata": {},
   "source": [
    "## Basic methods"
   ]
  },
  {
   "cell_type": "code",
   "execution_count": 37,
   "id": "862f2ee5-b1ac-4743-ad02-0757aaf7c808",
   "metadata": {},
   "outputs": [],
   "source": [
    "cities = [\"Shanghai\",\"Beijing\",\"Istanbul\"]\n",
    "population = [24183300, 20794100, 15030000]\n",
    "citypop = pd.Series(data = population, index = cities)"
   ]
  },
  {
   "cell_type": "code",
   "execution_count": 38,
   "id": "f815169f-6018-4d7e-b1fc-138ecb2cce52",
   "metadata": {},
   "outputs": [
    {
     "data": {
      "text/plain": [
       "Shanghai    24183300\n",
       "Beijing     20794100\n",
       "Istanbul    15030000\n",
       "dtype: int64"
      ]
     },
     "execution_count": 38,
     "metadata": {},
     "output_type": "execute_result"
    }
   ],
   "source": [
    "citypop"
   ]
  },
  {
   "cell_type": "code",
   "execution_count": 39,
   "id": "9d741934-bde6-4c2b-8aed-3fa2590df6ea",
   "metadata": {},
   "outputs": [
    {
     "name": "stdout",
     "output_type": "stream",
     "text": [
      "sum of the all cities:  60007400\n"
     ]
    }
   ],
   "source": [
    "print(\"sum of the all cities: \", citypop.sum())"
   ]
  },
  {
   "cell_type": "code",
   "execution_count": 40,
   "id": "e52b6ad8-e5ab-41c5-9de3-7e6ea10de02a",
   "metadata": {},
   "outputs": [
    {
     "name": "stdout",
     "output_type": "stream",
     "text": [
      "mean of each city:  20002466.666666668\n"
     ]
    }
   ],
   "source": [
    "print(\"mean of each city: \", citypop.mean())"
   ]
  },
  {
   "cell_type": "code",
   "execution_count": 41,
   "id": "c38da064-9631-4244-b0f8-225d059f80e1",
   "metadata": {},
   "outputs": [
    {
     "data": {
      "text/plain": [
       "Index(['Shanghai', 'Beijing', 'Istanbul'], dtype='object')"
      ]
     },
     "execution_count": 41,
     "metadata": {},
     "output_type": "execute_result"
    }
   ],
   "source": [
    "citypop.index"
   ]
  },
  {
   "cell_type": "code",
   "execution_count": 42,
   "id": "b94ac90d-b8cb-42e4-a1fc-4b6bd612ad2b",
   "metadata": {},
   "outputs": [
    {
     "data": {
      "text/plain": [
       "Index(['Shanghai', 'Beijing', 'Istanbul'], dtype='object')"
      ]
     },
     "execution_count": 42,
     "metadata": {},
     "output_type": "execute_result"
    }
   ],
   "source": [
    "citypop.keys()"
   ]
  },
  {
   "cell_type": "code",
   "execution_count": 43,
   "id": "0d9ce0a1-fe17-4f31-95e3-9fce449409b6",
   "metadata": {},
   "outputs": [
    {
     "data": {
      "text/plain": [
       "array([24183300, 20794100, 15030000], dtype=int64)"
      ]
     },
     "execution_count": 43,
     "metadata": {},
     "output_type": "execute_result"
    }
   ],
   "source": [
    "citypop.values"
   ]
  },
  {
   "cell_type": "markdown",
   "id": "c982afef-3395-4b2d-9a39-389e9ea13bef",
   "metadata": {},
   "source": [
    "## Exercise to course"
   ]
  },
  {
   "cell_type": "code",
   "execution_count": 45,
   "id": "71c93bd2-eda1-44d3-b731-8064fcac0bc2",
   "metadata": {},
   "outputs": [],
   "source": [
    "ages = [\"<=6\", \"7-14\", \"15-17\", \"18-24\", \"25-39\", \"40-59\", \">=60\"]\n",
    "count = [14, 334, 312, 5823, 9491, 7486, 4343]\n",
    "\n",
    "incidents = pd.Series(data=count, index= ages)"
   ]
  },
  {
   "cell_type": "code",
   "execution_count": 46,
   "id": "8acec76b-e47d-46af-9a9e-88eb4525bf5e",
   "metadata": {},
   "outputs": [
    {
     "data": {
      "text/plain": [
       "<=6        14\n",
       "7-14      334\n",
       "15-17     312\n",
       "18-24    5823\n",
       "25-39    9491\n",
       "40-59    7486\n",
       ">=60     4343\n",
       "dtype: int64"
      ]
     },
     "execution_count": 46,
     "metadata": {},
     "output_type": "execute_result"
    }
   ],
   "source": [
    "incidents"
   ]
  },
  {
   "cell_type": "code",
   "execution_count": 47,
   "id": "b7daee74-af59-4647-a18d-c8b29b05220b",
   "metadata": {},
   "outputs": [
    {
     "data": {
      "text/plain": [
       "18-24    5823.0\n",
       "25-39    9491.0\n",
       "40-59    7486.0\n",
       ">=60     4343.0\n",
       "dtype: float64"
      ]
     },
     "execution_count": 47,
     "metadata": {},
     "output_type": "execute_result"
    }
   ],
   "source": [
    "incidents.where(incidents>1000).dropna()"
   ]
  },
  {
   "cell_type": "code",
   "execution_count": 48,
   "id": "bc5231e5-3ae9-4399-bd38-74ce14a0830e",
   "metadata": {},
   "outputs": [],
   "source": [
    "incident1000 = incidents.where(incidents > 1000).dropna()"
   ]
  },
  {
   "cell_type": "code",
   "execution_count": 49,
   "id": "742f4f9f-34e0-41ae-b9e0-fa28b8316b99",
   "metadata": {},
   "outputs": [
    {
     "data": {
      "text/plain": [
       "18-24    5823.0\n",
       "25-39    9491.0\n",
       "40-59    7486.0\n",
       ">=60     4343.0\n",
       "dtype: float64"
      ]
     },
     "execution_count": 49,
     "metadata": {},
     "output_type": "execute_result"
    }
   ],
   "source": [
    "incident1000"
   ]
  },
  {
   "cell_type": "code",
   "execution_count": 50,
   "id": "92654c20-b00d-4a17-9dfc-09ea7a811aae",
   "metadata": {},
   "outputs": [
    {
     "data": {
      "text/plain": [
       "<=6        14\n",
       "7-14      334\n",
       "15-17     312\n",
       "18-24    5823\n",
       "25-39    9491\n",
       "40-59    7486\n",
       ">=60     4343\n",
       "dtype: int64"
      ]
     },
     "execution_count": 50,
     "metadata": {},
     "output_type": "execute_result"
    }
   ],
   "source": [
    "incidents"
   ]
  },
  {
   "cell_type": "code",
   "execution_count": 51,
   "id": "e002bdc8-87bf-4d24-9d19-2ede08bb9fd6",
   "metadata": {},
   "outputs": [
    {
     "data": {
      "text/plain": [
       "18-24    5823\n",
       "25-39    9491\n",
       "40-59    7486\n",
       "dtype: int64"
      ]
     },
     "execution_count": 51,
     "metadata": {},
     "output_type": "execute_result"
    }
   ],
   "source": [
    "incidents.filter(items=[\"18-24\", \"25-39\", \"40-59\"])"
   ]
  },
  {
   "cell_type": "code",
   "execution_count": 52,
   "id": "014cd4b0-6d9c-48a7-90d8-af064b7a6d21",
   "metadata": {},
   "outputs": [
    {
     "data": {
      "text/plain": [
       "<=6        14\n",
       "7-14      334\n",
       "15-17     312\n",
       "18-24    5823\n",
       "25-39    9491\n",
       "40-59    7486\n",
       ">=60     4343\n",
       "dtype: int64"
      ]
     },
     "execution_count": 52,
     "metadata": {},
     "output_type": "execute_result"
    }
   ],
   "source": [
    "incidents"
   ]
  },
  {
   "cell_type": "code",
   "execution_count": 53,
   "id": "e00c4910-9ec2-440e-9c29-6d4022558143",
   "metadata": {},
   "outputs": [],
   "source": [
    "incidents.where(incidents <= 1000, inplace = True)\n",
    "incidents.dropna(inplace=True)"
   ]
  },
  {
   "cell_type": "code",
   "execution_count": 54,
   "id": "83e788b6-9786-43e7-b0e2-e18ad4df6e71",
   "metadata": {},
   "outputs": [
    {
     "data": {
      "text/plain": [
       "<=6       14.0\n",
       "7-14     334.0\n",
       "15-17    312.0\n",
       "dtype: float64"
      ]
     },
     "execution_count": 54,
     "metadata": {},
     "output_type": "execute_result"
    }
   ],
   "source": [
    "incidents"
   ]
  },
  {
   "cell_type": "markdown",
   "id": "76199f34-df66-46dc-81bb-cb7efa431e53",
   "metadata": {},
   "source": [
    "## lab 7 exercises"
   ]
  },
  {
   "cell_type": "code",
   "execution_count": 56,
   "id": "5d0099fa-3a57-4e3d-aea3-b90efea58b29",
   "metadata": {},
   "outputs": [],
   "source": [
    "namesList = ['Albania','Austria','Belarus',\n",
    "'Belgium','Bulgaria','Croatia','Cyprus','Czech Republic','Denmark','Estonia',\n",
    "'Finland','France','Germany','Greece','Hungary','Iceland','Ireland','Italy',\n",
    "'Latvia','Lithuania','Luxembourg','Macedonia','Malta','Montenegro','Netherlands',\n",
    "'Norway','Poland','Portugal','Romania','Russia','Serbia','Slovenia','Spain', 'Sweden','Switzerland','United Kingdom','Turkey','Ukraine']"
   ]
  },
  {
   "cell_type": "code",
   "execution_count": 57,
   "id": "836643ef-c91b-42aa-86b8-e720ac380d1a",
   "metadata": {},
   "outputs": [],
   "source": [
    "energy2000List = [1947,8347,3564,8369,4560,3814,4623,6348,6328,6506,16483,7736,7264,5318,3876,\n",
    "51440,5911,5494,3230,3471,16830,3521,4171,5420,7010,24891,3797,4959,2551,\n",
    "6410,4359,6521,5707,14934,8175,2498,3550,5701]"
   ]
  },
  {
   "cell_type": "code",
   "execution_count": 58,
   "id": "8f42ade5-69e6-40c9-b986-fbeabba8ccd5",
   "metadata": {},
   "outputs": [],
   "source": [
    "energy2012List = [2118,8507,3698,7987,4762,3819,4057,6305,6039,6689,15687,7344,7270,5511,3919,\n",
    "53203,5665,5398,3588,3608,14696,3626,4761,5416,6871,23658,3899,4736,2604,\n",
    "6617,4387,6778,5573,14290,7886,2794,3641,5452]"
   ]
  },
  {
   "cell_type": "code",
   "execution_count": 59,
   "id": "c3dc2e9e-1efc-4c88-bd7f-3f6b7be1feff",
   "metadata": {},
   "outputs": [],
   "source": [
    "namesSeries = pd.Series(namesList)\n",
    "energy2000Series = pd.Series(energy2000List)\n",
    "energy2012Series = pd.Series(energy2012List)"
   ]
  },
  {
   "cell_type": "code",
   "execution_count": 60,
   "id": "7dc1388c-f2a1-4293-b2df-45119f23c87a",
   "metadata": {},
   "outputs": [],
   "source": [
    "mean2000 = energy2000Series.mean()\n",
    "mean2012 = energy2012Series.mean()\n",
    "filterAboveMean2000 = energy2000Series > mean2000\n",
    "filterAboveMean2012 = energy2012Series > mean2012"
   ]
  },
  {
   "cell_type": "code",
   "execution_count": 61,
   "id": "02880afe-fd58-4291-8467-6f8ca9667c92",
   "metadata": {},
   "outputs": [
    {
     "data": {
      "text/plain": [
       "1         Austria\n",
       "3         Belgium\n",
       "10        Finland\n",
       "15        Iceland\n",
       "20     Luxembourg\n",
       "25         Norway\n",
       "33         Sweden\n",
       "34    Switzerland\n",
       "dtype: object"
      ]
     },
     "execution_count": 61,
     "metadata": {},
     "output_type": "execute_result"
    }
   ],
   "source": [
    "namesSeries.where(filterAboveMean2000 & filterAboveMean2012).dropna()"
   ]
  },
  {
   "cell_type": "markdown",
   "id": "f271a1e4-e1e6-40bb-96a8-2dd62cd6980f",
   "metadata": {},
   "source": [
    "## Importing data"
   ]
  },
  {
   "cell_type": "markdown",
   "id": "461110ab-be29-4262-a9d5-135da3318540",
   "metadata": {},
   "source": [
    "To import data from csv file we can use __pd.read_csv()__ ."
   ]
  },
  {
   "cell_type": "code",
   "execution_count": 64,
   "id": "d3d1d52f-088f-4a86-ba3f-7a8bd30db711",
   "metadata": {},
   "outputs": [],
   "source": [
    "education = pd.read_csv(\"./files/StackOverflowDeveloperSurvey.csv\")"
   ]
  },
  {
   "cell_type": "code",
   "execution_count": 65,
   "id": "9b56172f-9c9d-4f9c-a418-e58e18a1ac4d",
   "metadata": {},
   "outputs": [
    {
     "data": {
      "text/html": [
       "<div>\n",
       "<style scoped>\n",
       "    .dataframe tbody tr th:only-of-type {\n",
       "        vertical-align: middle;\n",
       "    }\n",
       "\n",
       "    .dataframe tbody tr th {\n",
       "        vertical-align: top;\n",
       "    }\n",
       "\n",
       "    .dataframe thead th {\n",
       "        text-align: right;\n",
       "    }\n",
       "</style>\n",
       "<table border=\"1\" class=\"dataframe\">\n",
       "  <thead>\n",
       "    <tr style=\"text-align: right;\">\n",
       "      <th></th>\n",
       "      <th>Respondent</th>\n",
       "      <th>Professional</th>\n",
       "      <th>ProgramHobby</th>\n",
       "      <th>Country</th>\n",
       "      <th>University</th>\n",
       "      <th>EmploymentStatus</th>\n",
       "      <th>FormalEducation</th>\n",
       "      <th>MajorUndergrad</th>\n",
       "      <th>HomeRemote</th>\n",
       "      <th>CompanySize</th>\n",
       "      <th>...</th>\n",
       "      <th>StackOverflowMakeMoney</th>\n",
       "      <th>Gender</th>\n",
       "      <th>HighestEducationParents</th>\n",
       "      <th>Race</th>\n",
       "      <th>SurveyLong</th>\n",
       "      <th>QuestionsInteresting</th>\n",
       "      <th>QuestionsConfusing</th>\n",
       "      <th>InterestedAnswers</th>\n",
       "      <th>Salary</th>\n",
       "      <th>ExpectedSalary</th>\n",
       "    </tr>\n",
       "  </thead>\n",
       "  <tbody>\n",
       "    <tr>\n",
       "      <th>0</th>\n",
       "      <td>1</td>\n",
       "      <td>Student</td>\n",
       "      <td>Yes, both</td>\n",
       "      <td>United States</td>\n",
       "      <td>No</td>\n",
       "      <td>Not employed, and not looking for work</td>\n",
       "      <td>Secondary school</td>\n",
       "      <td>NaN</td>\n",
       "      <td>NaN</td>\n",
       "      <td>NaN</td>\n",
       "      <td>...</td>\n",
       "      <td>Strongly disagree</td>\n",
       "      <td>Male</td>\n",
       "      <td>High school</td>\n",
       "      <td>White or of European descent</td>\n",
       "      <td>Strongly disagree</td>\n",
       "      <td>Strongly agree</td>\n",
       "      <td>Disagree</td>\n",
       "      <td>Strongly agree</td>\n",
       "      <td>NaN</td>\n",
       "      <td>NaN</td>\n",
       "    </tr>\n",
       "    <tr>\n",
       "      <th>1</th>\n",
       "      <td>2</td>\n",
       "      <td>Student</td>\n",
       "      <td>Yes, both</td>\n",
       "      <td>United Kingdom</td>\n",
       "      <td>Yes, full-time</td>\n",
       "      <td>Employed part-time</td>\n",
       "      <td>Some college/university study without earning ...</td>\n",
       "      <td>Computer science or software engineering</td>\n",
       "      <td>More than half, but not all, the time</td>\n",
       "      <td>20 to 99 employees</td>\n",
       "      <td>...</td>\n",
       "      <td>Strongly disagree</td>\n",
       "      <td>Male</td>\n",
       "      <td>A master's degree</td>\n",
       "      <td>White or of European descent</td>\n",
       "      <td>Somewhat agree</td>\n",
       "      <td>Somewhat agree</td>\n",
       "      <td>Disagree</td>\n",
       "      <td>Strongly agree</td>\n",
       "      <td>NaN</td>\n",
       "      <td>37500.0</td>\n",
       "    </tr>\n",
       "    <tr>\n",
       "      <th>2</th>\n",
       "      <td>3</td>\n",
       "      <td>Professional developer</td>\n",
       "      <td>Yes, both</td>\n",
       "      <td>United Kingdom</td>\n",
       "      <td>No</td>\n",
       "      <td>Employed full-time</td>\n",
       "      <td>Bachelor's degree</td>\n",
       "      <td>Computer science or software engineering</td>\n",
       "      <td>Less than half the time, but at least one day ...</td>\n",
       "      <td>10,000 or more employees</td>\n",
       "      <td>...</td>\n",
       "      <td>Disagree</td>\n",
       "      <td>Male</td>\n",
       "      <td>A professional degree</td>\n",
       "      <td>White or of European descent</td>\n",
       "      <td>Somewhat agree</td>\n",
       "      <td>Agree</td>\n",
       "      <td>Disagree</td>\n",
       "      <td>Agree</td>\n",
       "      <td>113750.0</td>\n",
       "      <td>NaN</td>\n",
       "    </tr>\n",
       "    <tr>\n",
       "      <th>3</th>\n",
       "      <td>4</td>\n",
       "      <td>Professional non-developer who sometimes write...</td>\n",
       "      <td>Yes, both</td>\n",
       "      <td>United States</td>\n",
       "      <td>No</td>\n",
       "      <td>Employed full-time</td>\n",
       "      <td>Doctoral degree</td>\n",
       "      <td>A non-computer-focused engineering discipline</td>\n",
       "      <td>Less than half the time, but at least one day ...</td>\n",
       "      <td>10,000 or more employees</td>\n",
       "      <td>...</td>\n",
       "      <td>Disagree</td>\n",
       "      <td>Male</td>\n",
       "      <td>A doctoral degree</td>\n",
       "      <td>White or of European descent</td>\n",
       "      <td>Agree</td>\n",
       "      <td>Agree</td>\n",
       "      <td>Somewhat agree</td>\n",
       "      <td>Strongly agree</td>\n",
       "      <td>NaN</td>\n",
       "      <td>NaN</td>\n",
       "    </tr>\n",
       "    <tr>\n",
       "      <th>4</th>\n",
       "      <td>5</td>\n",
       "      <td>Professional developer</td>\n",
       "      <td>Yes, I program as a hobby</td>\n",
       "      <td>Switzerland</td>\n",
       "      <td>No</td>\n",
       "      <td>Employed full-time</td>\n",
       "      <td>Master's degree</td>\n",
       "      <td>Computer science or software engineering</td>\n",
       "      <td>Never</td>\n",
       "      <td>10 to 19 employees</td>\n",
       "      <td>...</td>\n",
       "      <td>NaN</td>\n",
       "      <td>NaN</td>\n",
       "      <td>NaN</td>\n",
       "      <td>NaN</td>\n",
       "      <td>NaN</td>\n",
       "      <td>NaN</td>\n",
       "      <td>NaN</td>\n",
       "      <td>NaN</td>\n",
       "      <td>NaN</td>\n",
       "      <td>NaN</td>\n",
       "    </tr>\n",
       "    <tr>\n",
       "      <th>...</th>\n",
       "      <td>...</td>\n",
       "      <td>...</td>\n",
       "      <td>...</td>\n",
       "      <td>...</td>\n",
       "      <td>...</td>\n",
       "      <td>...</td>\n",
       "      <td>...</td>\n",
       "      <td>...</td>\n",
       "      <td>...</td>\n",
       "      <td>...</td>\n",
       "      <td>...</td>\n",
       "      <td>...</td>\n",
       "      <td>...</td>\n",
       "      <td>...</td>\n",
       "      <td>...</td>\n",
       "      <td>...</td>\n",
       "      <td>...</td>\n",
       "      <td>...</td>\n",
       "      <td>...</td>\n",
       "      <td>...</td>\n",
       "      <td>...</td>\n",
       "    </tr>\n",
       "    <tr>\n",
       "      <th>51387</th>\n",
       "      <td>51388</td>\n",
       "      <td>Professional developer</td>\n",
       "      <td>Yes, I program as a hobby</td>\n",
       "      <td>United States</td>\n",
       "      <td>No</td>\n",
       "      <td>Employed full-time</td>\n",
       "      <td>Bachelor's degree</td>\n",
       "      <td>A social science</td>\n",
       "      <td>A few days each month</td>\n",
       "      <td>100 to 499 employees</td>\n",
       "      <td>...</td>\n",
       "      <td>Disagree</td>\n",
       "      <td>Male</td>\n",
       "      <td>A doctoral degree</td>\n",
       "      <td>East Asian; White or of European descent</td>\n",
       "      <td>Disagree</td>\n",
       "      <td>Agree</td>\n",
       "      <td>Strongly disagree</td>\n",
       "      <td>Strongly agree</td>\n",
       "      <td>58000.0</td>\n",
       "      <td>NaN</td>\n",
       "    </tr>\n",
       "    <tr>\n",
       "      <th>51388</th>\n",
       "      <td>51389</td>\n",
       "      <td>Student</td>\n",
       "      <td>No</td>\n",
       "      <td>Venezuela</td>\n",
       "      <td>Yes, full-time</td>\n",
       "      <td>Employed full-time</td>\n",
       "      <td>Master's degree</td>\n",
       "      <td>Computer programming or Web development</td>\n",
       "      <td>Never</td>\n",
       "      <td>100 to 499 employees</td>\n",
       "      <td>...</td>\n",
       "      <td>NaN</td>\n",
       "      <td>Male</td>\n",
       "      <td>A master's degree</td>\n",
       "      <td>Black or of African descent; Hispanic or Latin...</td>\n",
       "      <td>Somewhat agree</td>\n",
       "      <td>Agree</td>\n",
       "      <td>Disagree</td>\n",
       "      <td>Agree</td>\n",
       "      <td>NaN</td>\n",
       "      <td>NaN</td>\n",
       "    </tr>\n",
       "    <tr>\n",
       "      <th>51389</th>\n",
       "      <td>51390</td>\n",
       "      <td>Professional developer</td>\n",
       "      <td>Yes, I program as a hobby</td>\n",
       "      <td>Canada</td>\n",
       "      <td>No</td>\n",
       "      <td>Employed full-time</td>\n",
       "      <td>Some college/university study without earning ...</td>\n",
       "      <td>Information technology, networking, or system ...</td>\n",
       "      <td>Less than half the time, but at least one day ...</td>\n",
       "      <td>10 to 19 employees</td>\n",
       "      <td>...</td>\n",
       "      <td>NaN</td>\n",
       "      <td>NaN</td>\n",
       "      <td>NaN</td>\n",
       "      <td>NaN</td>\n",
       "      <td>NaN</td>\n",
       "      <td>NaN</td>\n",
       "      <td>NaN</td>\n",
       "      <td>NaN</td>\n",
       "      <td>NaN</td>\n",
       "      <td>NaN</td>\n",
       "    </tr>\n",
       "    <tr>\n",
       "      <th>51390</th>\n",
       "      <td>51391</td>\n",
       "      <td>Professional developer</td>\n",
       "      <td>Yes, I program as a hobby</td>\n",
       "      <td>United States</td>\n",
       "      <td>No</td>\n",
       "      <td>Employed full-time</td>\n",
       "      <td>Bachelor's degree</td>\n",
       "      <td>Computer science or software engineering</td>\n",
       "      <td>Never</td>\n",
       "      <td>Fewer than 10 employees</td>\n",
       "      <td>...</td>\n",
       "      <td>Disagree</td>\n",
       "      <td>Male</td>\n",
       "      <td>A bachelor's degree</td>\n",
       "      <td>White or of European descent</td>\n",
       "      <td>Disagree</td>\n",
       "      <td>Agree</td>\n",
       "      <td>Disagree</td>\n",
       "      <td>Strongly agree</td>\n",
       "      <td>40000.0</td>\n",
       "      <td>NaN</td>\n",
       "    </tr>\n",
       "    <tr>\n",
       "      <th>51391</th>\n",
       "      <td>51392</td>\n",
       "      <td>Professional non-developer who sometimes write...</td>\n",
       "      <td>No</td>\n",
       "      <td>Ireland</td>\n",
       "      <td>No</td>\n",
       "      <td>Employed full-time</td>\n",
       "      <td>Bachelor's degree</td>\n",
       "      <td>Computer science or software engineering</td>\n",
       "      <td>It's complicated</td>\n",
       "      <td>10,000 or more employees</td>\n",
       "      <td>...</td>\n",
       "      <td>Somewhat agree</td>\n",
       "      <td>Male</td>\n",
       "      <td>A bachelor's degree</td>\n",
       "      <td>White or of European descent</td>\n",
       "      <td>Somewhat agree</td>\n",
       "      <td>Strongly agree</td>\n",
       "      <td>Disagree</td>\n",
       "      <td>Strongly agree</td>\n",
       "      <td>NaN</td>\n",
       "      <td>NaN</td>\n",
       "    </tr>\n",
       "  </tbody>\n",
       "</table>\n",
       "<p>51392 rows × 154 columns</p>\n",
       "</div>"
      ],
      "text/plain": [
       "       Respondent                                       Professional  \\\n",
       "0               1                                            Student   \n",
       "1               2                                            Student   \n",
       "2               3                             Professional developer   \n",
       "3               4  Professional non-developer who sometimes write...   \n",
       "4               5                             Professional developer   \n",
       "...           ...                                                ...   \n",
       "51387       51388                             Professional developer   \n",
       "51388       51389                                            Student   \n",
       "51389       51390                             Professional developer   \n",
       "51390       51391                             Professional developer   \n",
       "51391       51392  Professional non-developer who sometimes write...   \n",
       "\n",
       "                    ProgramHobby         Country      University  \\\n",
       "0                      Yes, both   United States              No   \n",
       "1                      Yes, both  United Kingdom  Yes, full-time   \n",
       "2                      Yes, both  United Kingdom              No   \n",
       "3                      Yes, both   United States              No   \n",
       "4      Yes, I program as a hobby     Switzerland              No   \n",
       "...                          ...             ...             ...   \n",
       "51387  Yes, I program as a hobby   United States              No   \n",
       "51388                         No       Venezuela  Yes, full-time   \n",
       "51389  Yes, I program as a hobby          Canada              No   \n",
       "51390  Yes, I program as a hobby   United States              No   \n",
       "51391                         No         Ireland              No   \n",
       "\n",
       "                             EmploymentStatus  \\\n",
       "0      Not employed, and not looking for work   \n",
       "1                          Employed part-time   \n",
       "2                          Employed full-time   \n",
       "3                          Employed full-time   \n",
       "4                          Employed full-time   \n",
       "...                                       ...   \n",
       "51387                      Employed full-time   \n",
       "51388                      Employed full-time   \n",
       "51389                      Employed full-time   \n",
       "51390                      Employed full-time   \n",
       "51391                      Employed full-time   \n",
       "\n",
       "                                         FormalEducation  \\\n",
       "0                                       Secondary school   \n",
       "1      Some college/university study without earning ...   \n",
       "2                                      Bachelor's degree   \n",
       "3                                        Doctoral degree   \n",
       "4                                        Master's degree   \n",
       "...                                                  ...   \n",
       "51387                                  Bachelor's degree   \n",
       "51388                                    Master's degree   \n",
       "51389  Some college/university study without earning ...   \n",
       "51390                                  Bachelor's degree   \n",
       "51391                                  Bachelor's degree   \n",
       "\n",
       "                                          MajorUndergrad  \\\n",
       "0                                                    NaN   \n",
       "1               Computer science or software engineering   \n",
       "2               Computer science or software engineering   \n",
       "3          A non-computer-focused engineering discipline   \n",
       "4               Computer science or software engineering   \n",
       "...                                                  ...   \n",
       "51387                                   A social science   \n",
       "51388            Computer programming or Web development   \n",
       "51389  Information technology, networking, or system ...   \n",
       "51390           Computer science or software engineering   \n",
       "51391           Computer science or software engineering   \n",
       "\n",
       "                                              HomeRemote  \\\n",
       "0                                                    NaN   \n",
       "1                  More than half, but not all, the time   \n",
       "2      Less than half the time, but at least one day ...   \n",
       "3      Less than half the time, but at least one day ...   \n",
       "4                                                  Never   \n",
       "...                                                  ...   \n",
       "51387                              A few days each month   \n",
       "51388                                              Never   \n",
       "51389  Less than half the time, but at least one day ...   \n",
       "51390                                              Never   \n",
       "51391                                   It's complicated   \n",
       "\n",
       "                    CompanySize  ... StackOverflowMakeMoney Gender  \\\n",
       "0                           NaN  ...      Strongly disagree   Male   \n",
       "1            20 to 99 employees  ...      Strongly disagree   Male   \n",
       "2      10,000 or more employees  ...               Disagree   Male   \n",
       "3      10,000 or more employees  ...               Disagree   Male   \n",
       "4            10 to 19 employees  ...                    NaN    NaN   \n",
       "...                         ...  ...                    ...    ...   \n",
       "51387      100 to 499 employees  ...               Disagree   Male   \n",
       "51388      100 to 499 employees  ...                    NaN   Male   \n",
       "51389        10 to 19 employees  ...                    NaN    NaN   \n",
       "51390   Fewer than 10 employees  ...               Disagree   Male   \n",
       "51391  10,000 or more employees  ...         Somewhat agree   Male   \n",
       "\n",
       "      HighestEducationParents  \\\n",
       "0                 High school   \n",
       "1           A master's degree   \n",
       "2       A professional degree   \n",
       "3           A doctoral degree   \n",
       "4                         NaN   \n",
       "...                       ...   \n",
       "51387       A doctoral degree   \n",
       "51388       A master's degree   \n",
       "51389                     NaN   \n",
       "51390     A bachelor's degree   \n",
       "51391     A bachelor's degree   \n",
       "\n",
       "                                                    Race         SurveyLong  \\\n",
       "0                           White or of European descent  Strongly disagree   \n",
       "1                           White or of European descent     Somewhat agree   \n",
       "2                           White or of European descent     Somewhat agree   \n",
       "3                           White or of European descent              Agree   \n",
       "4                                                    NaN                NaN   \n",
       "...                                                  ...                ...   \n",
       "51387           East Asian; White or of European descent           Disagree   \n",
       "51388  Black or of African descent; Hispanic or Latin...     Somewhat agree   \n",
       "51389                                                NaN                NaN   \n",
       "51390                       White or of European descent           Disagree   \n",
       "51391                       White or of European descent     Somewhat agree   \n",
       "\n",
       "      QuestionsInteresting QuestionsConfusing InterestedAnswers    Salary  \\\n",
       "0           Strongly agree           Disagree    Strongly agree       NaN   \n",
       "1           Somewhat agree           Disagree    Strongly agree       NaN   \n",
       "2                    Agree           Disagree             Agree  113750.0   \n",
       "3                    Agree     Somewhat agree    Strongly agree       NaN   \n",
       "4                      NaN                NaN               NaN       NaN   \n",
       "...                    ...                ...               ...       ...   \n",
       "51387                Agree  Strongly disagree    Strongly agree   58000.0   \n",
       "51388                Agree           Disagree             Agree       NaN   \n",
       "51389                  NaN                NaN               NaN       NaN   \n",
       "51390                Agree           Disagree    Strongly agree   40000.0   \n",
       "51391       Strongly agree           Disagree    Strongly agree       NaN   \n",
       "\n",
       "       ExpectedSalary  \n",
       "0                 NaN  \n",
       "1             37500.0  \n",
       "2                 NaN  \n",
       "3                 NaN  \n",
       "4                 NaN  \n",
       "...               ...  \n",
       "51387             NaN  \n",
       "51388             NaN  \n",
       "51389             NaN  \n",
       "51390             NaN  \n",
       "51391             NaN  \n",
       "\n",
       "[51392 rows x 154 columns]"
      ]
     },
     "execution_count": 65,
     "metadata": {},
     "output_type": "execute_result"
    }
   ],
   "source": [
    "education"
   ]
  },
  {
   "cell_type": "markdown",
   "id": "e144fc0e-062f-401a-85d3-2b80bece8efd",
   "metadata": {},
   "source": [
    "Now, we imported a whole table, so our object is a __data frame__."
   ]
  },
  {
   "cell_type": "code",
   "execution_count": 67,
   "id": "c9e3bc28-49bd-4629-bc1b-fb7c1899d4cb",
   "metadata": {},
   "outputs": [
    {
     "data": {
      "text/plain": [
       "pandas.core.frame.DataFrame"
      ]
     },
     "execution_count": 67,
     "metadata": {},
     "output_type": "execute_result"
    }
   ],
   "source": [
    "type(education)"
   ]
  },
  {
   "cell_type": "markdown",
   "id": "e02bf5bb-c04e-41f9-9552-4feb6e6c553d",
   "metadata": {},
   "source": [
    "We want just a one column, so we try to import this as a __data series__ object."
   ]
  },
  {
   "cell_type": "code",
   "execution_count": 69,
   "id": "fa7684f0-476d-4d1d-967e-b6239756e529",
   "metadata": {},
   "outputs": [],
   "source": [
    "educationds = pd.read_csv(\"./files/StackOverflowDeveloperSurvey.csv\", usecols=[\"FormalEducation\"]).squeeze()"
   ]
  },
  {
   "cell_type": "code",
   "execution_count": 70,
   "id": "8dc394a6-b8da-4949-b49d-7777059747ae",
   "metadata": {},
   "outputs": [
    {
     "data": {
      "text/plain": [
       "pandas.core.series.Series"
      ]
     },
     "execution_count": 70,
     "metadata": {},
     "output_type": "execute_result"
    }
   ],
   "source": [
    "type(educationds)"
   ]
  },
  {
   "cell_type": "markdown",
   "id": "d6f463cd-7b0b-4f11-bd52-c01bf6ec8875",
   "metadata": {},
   "source": [
    "Now, we have a __data series__ object with just one collumn."
   ]
  },
  {
   "cell_type": "code",
   "execution_count": 125,
   "id": "802720c1-9f12-4b29-8cec-75f3e6c222ef",
   "metadata": {},
   "outputs": [
    {
     "data": {
      "text/html": [
       "<div>\n",
       "<style scoped>\n",
       "    .dataframe tbody tr th:only-of-type {\n",
       "        vertical-align: middle;\n",
       "    }\n",
       "\n",
       "    .dataframe tbody tr th {\n",
       "        vertical-align: top;\n",
       "    }\n",
       "\n",
       "    .dataframe thead th {\n",
       "        text-align: right;\n",
       "    }\n",
       "</style>\n",
       "<table border=\"1\" class=\"dataframe\">\n",
       "  <thead>\n",
       "    <tr style=\"text-align: right;\">\n",
       "      <th></th>\n",
       "      <th>Respondent</th>\n",
       "      <th>Professional</th>\n",
       "      <th>ProgramHobby</th>\n",
       "      <th>Country</th>\n",
       "      <th>University</th>\n",
       "      <th>EmploymentStatus</th>\n",
       "      <th>FormalEducation</th>\n",
       "      <th>MajorUndergrad</th>\n",
       "      <th>HomeRemote</th>\n",
       "      <th>CompanySize</th>\n",
       "      <th>...</th>\n",
       "      <th>StackOverflowMakeMoney</th>\n",
       "      <th>Gender</th>\n",
       "      <th>HighestEducationParents</th>\n",
       "      <th>Race</th>\n",
       "      <th>SurveyLong</th>\n",
       "      <th>QuestionsInteresting</th>\n",
       "      <th>QuestionsConfusing</th>\n",
       "      <th>InterestedAnswers</th>\n",
       "      <th>Salary</th>\n",
       "      <th>ExpectedSalary</th>\n",
       "    </tr>\n",
       "  </thead>\n",
       "  <tbody>\n",
       "    <tr>\n",
       "      <th>0</th>\n",
       "      <td>1</td>\n",
       "      <td>Student</td>\n",
       "      <td>Yes, both</td>\n",
       "      <td>United States</td>\n",
       "      <td>No</td>\n",
       "      <td>Not employed, and not looking for work</td>\n",
       "      <td>Secondary school</td>\n",
       "      <td>NaN</td>\n",
       "      <td>NaN</td>\n",
       "      <td>NaN</td>\n",
       "      <td>...</td>\n",
       "      <td>Strongly disagree</td>\n",
       "      <td>Male</td>\n",
       "      <td>High school</td>\n",
       "      <td>White or of European descent</td>\n",
       "      <td>Strongly disagree</td>\n",
       "      <td>Strongly agree</td>\n",
       "      <td>Disagree</td>\n",
       "      <td>Strongly agree</td>\n",
       "      <td>NaN</td>\n",
       "      <td>NaN</td>\n",
       "    </tr>\n",
       "    <tr>\n",
       "      <th>1</th>\n",
       "      <td>2</td>\n",
       "      <td>Student</td>\n",
       "      <td>Yes, both</td>\n",
       "      <td>United Kingdom</td>\n",
       "      <td>Yes, full-time</td>\n",
       "      <td>Employed part-time</td>\n",
       "      <td>Some college/university study without earning ...</td>\n",
       "      <td>Computer science or software engineering</td>\n",
       "      <td>More than half, but not all, the time</td>\n",
       "      <td>20 to 99 employees</td>\n",
       "      <td>...</td>\n",
       "      <td>Strongly disagree</td>\n",
       "      <td>Male</td>\n",
       "      <td>A master's degree</td>\n",
       "      <td>White or of European descent</td>\n",
       "      <td>Somewhat agree</td>\n",
       "      <td>Somewhat agree</td>\n",
       "      <td>Disagree</td>\n",
       "      <td>Strongly agree</td>\n",
       "      <td>NaN</td>\n",
       "      <td>37500.0</td>\n",
       "    </tr>\n",
       "  </tbody>\n",
       "</table>\n",
       "<p>2 rows × 154 columns</p>\n",
       "</div>"
      ],
      "text/plain": [
       "   Respondent Professional ProgramHobby         Country      University  \\\n",
       "0           1      Student    Yes, both   United States              No   \n",
       "1           2      Student    Yes, both  United Kingdom  Yes, full-time   \n",
       "\n",
       "                         EmploymentStatus  \\\n",
       "0  Not employed, and not looking for work   \n",
       "1                      Employed part-time   \n",
       "\n",
       "                                     FormalEducation  \\\n",
       "0                                   Secondary school   \n",
       "1  Some college/university study without earning ...   \n",
       "\n",
       "                             MajorUndergrad  \\\n",
       "0                                       NaN   \n",
       "1  Computer science or software engineering   \n",
       "\n",
       "                              HomeRemote         CompanySize  ...  \\\n",
       "0                                    NaN                 NaN  ...   \n",
       "1  More than half, but not all, the time  20 to 99 employees  ...   \n",
       "\n",
       "  StackOverflowMakeMoney Gender HighestEducationParents  \\\n",
       "0      Strongly disagree   Male             High school   \n",
       "1      Strongly disagree   Male       A master's degree   \n",
       "\n",
       "                           Race         SurveyLong QuestionsInteresting  \\\n",
       "0  White or of European descent  Strongly disagree       Strongly agree   \n",
       "1  White or of European descent     Somewhat agree       Somewhat agree   \n",
       "\n",
       "  QuestionsConfusing InterestedAnswers  Salary  ExpectedSalary  \n",
       "0           Disagree    Strongly agree     NaN             NaN  \n",
       "1           Disagree    Strongly agree     NaN         37500.0  \n",
       "\n",
       "[2 rows x 154 columns]"
      ]
     },
     "execution_count": 125,
     "metadata": {},
     "output_type": "execute_result"
    }
   ],
   "source": [
    "education.head(2)"
   ]
  },
  {
   "cell_type": "code",
   "execution_count": 127,
   "id": "80705bd3-4499-4b81-99f4-6c4f23876568",
   "metadata": {},
   "outputs": [
    {
     "data": {
      "text/plain": [
       "51389    Some college/university study without earning ...\n",
       "51390                                    Bachelor's degree\n",
       "51391                                    Bachelor's degree\n",
       "Name: FormalEducation, dtype: object"
      ]
     },
     "execution_count": 127,
     "metadata": {},
     "output_type": "execute_result"
    }
   ],
   "source": [
    "educationds.tail(3)"
   ]
  },
  {
   "cell_type": "code",
   "execution_count": 129,
   "id": "e0a9c707-1abd-4f33-b95f-82e1a0029ac9",
   "metadata": {},
   "outputs": [],
   "source": [
    "country = education[\"Country\"]"
   ]
  },
  {
   "cell_type": "code",
   "execution_count": 133,
   "id": "8098f275-e83e-491a-80d4-d22b1aad5b85",
   "metadata": {},
   "outputs": [
    {
     "data": {
      "text/plain": [
       "0     United States\n",
       "1    United Kingdom\n",
       "2    United Kingdom\n",
       "3     United States\n",
       "4       Switzerland\n",
       "Name: Country, dtype: object"
      ]
     },
     "execution_count": 133,
     "metadata": {},
     "output_type": "execute_result"
    }
   ],
   "source": [
    "country.head()"
   ]
  },
  {
   "cell_type": "code",
   "execution_count": 145,
   "id": "0589a19d-c072-4cbf-8b46-dc47196ac066",
   "metadata": {},
   "outputs": [
    {
     "data": {
      "text/plain": [
       "0              Secondary school\n",
       "3               Doctoral degree\n",
       "6               Master's degree\n",
       "10            Bachelor's degree\n",
       "15    Primary/elementary school\n",
       "17            Bachelor's degree\n",
       "18            Bachelor's degree\n",
       "25              Master's degree\n",
       "27            Bachelor's degree\n",
       "29            Bachelor's degree\n",
       "Name: FormalEducation, dtype: object"
      ]
     },
     "execution_count": 145,
     "metadata": {},
     "output_type": "execute_result"
    }
   ],
   "source": [
    "filterOnlyUsa = (country == \"United States\")\n",
    "educationds.where(filterOnlyUsa).dropna().head(10)"
   ]
  },
  {
   "cell_type": "code",
   "execution_count": null,
   "id": "cbaf4c4a-ed3a-45be-b7ba-595555e2f42a",
   "metadata": {},
   "outputs": [],
   "source": []
  }
 ],
 "metadata": {
  "kernelspec": {
   "display_name": "Python 3 (ipykernel)",
   "language": "python",
   "name": "python3"
  },
  "language_info": {
   "codemirror_mode": {
    "name": "ipython",
    "version": 3
   },
   "file_extension": ".py",
   "mimetype": "text/x-python",
   "name": "python",
   "nbconvert_exporter": "python",
   "pygments_lexer": "ipython3",
   "version": "3.12.7"
  }
 },
 "nbformat": 4,
 "nbformat_minor": 5
}
